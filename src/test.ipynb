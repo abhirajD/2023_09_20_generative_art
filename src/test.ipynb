{
 "cells": [
  {
   "cell_type": "code",
   "execution_count": 2,
   "metadata": {},
   "outputs": [],
   "source": [
    "import pygame\n",
    "from pygame.locals import *\n",
    "\n",
    "import os\n",
    "import sys"
   ]
  },
  {
   "cell_type": "code",
   "execution_count": 2,
   "metadata": {},
   "outputs": [
    {
     "name": "stdout",
     "output_type": "stream",
     "text": [
      "3.1.7\n"
     ]
    }
   ],
   "source": [
    "# Get pyopengl version\n",
    "import OpenGL\n",
    "print(OpenGL.__version__)"
   ]
  },
  {
   "cell_type": "code",
   "execution_count": null,
   "metadata": {},
   "outputs": [],
   "source": [
    "class PyOGLApp():\n",
    "    def __init__(self, screen_posX, screen_posY, screen_width, screen_height, screen_caption):\n",
    "        self._running = True\n",
    "        self._display_surf = None\n",
    "    \n",
    "        os.environ['SDL_VIDEO_WINDOW_POS'] = \"%d,%d\" % (screen_posX,screen_posY)\n",
    "        self.screen_size = self.screen_width, self.screen_height = screen_width, screen_height\n",
    "        self.screen_caption = screen_caption\n",
    "\n",
    "        pygame.init()\n",
    "        pygame.display.gl_set_attribute(pygame.GL_MULTISAMPLEBUFFERS, 1)\n",
    "        pygame.display.gl_set_attribute(pygame.GL_MULTISAMPLESAMPLES, 4)\n",
    "        pygame.display.gl_set_attribute(pygame.GL_CONTEXT_PROFILE_MASK, pygame.GL_CONTEXT_PROFILE_CORE)\n",
    "        pygame.display.gl_set_attribute(pygame.GL_DEPTH_SIZE, 32)\n",
    "\n",
    "        # self.screen = pygame.display.set_mode(self.screen_size, pygame.DOUBLEBUF | pygame.OPENGL | pygame.OPENGLBLIT | pygame.RESIZABLE)\n",
    "        # self.screen = pygame.display.set_mode(self.screen_size, DOUBLEBUF | OPENGL | OPENGLBLIT | RESIZABLE)\n",
    "        self.screen = pygame.display.set_mode(self.screen_size, DOUBLEBUF | OPENGL)\n",
    "        pygame.display.set_caption(self.screen_caption)\n",
    "\n",
    "        self.program_id = None\n",
    "        self.clock = pygame.time.Clock()\n",
    "\n",
    "    def mainLoop(self):\n",
    "        done = False\n",
    "        self.initialize()\n",
    "\n",
    "        while not done:\n",
    "            for event in pygame.event.get():\n",
    "                if event.type == pygame.QUIT:\n",
    "                    done = True\n",
    "            self.display()\n",
    "            pygame.display.flip()\n",
    "            self.clock.tick(60)\n",
    "        \n",
    "        pygame.quit()\n",
    "\n",
    "\n",
    "\n",
    "\n",
    "\n"
   ]
  }
 ],
 "metadata": {
  "kernelspec": {
   "display_name": "Python 3",
   "language": "python",
   "name": "python3"
  },
  "language_info": {
   "codemirror_mode": {
    "name": "ipython",
    "version": 3
   },
   "file_extension": ".py",
   "mimetype": "text/x-python",
   "name": "python",
   "nbconvert_exporter": "python",
   "pygments_lexer": "ipython3",
   "version": "3.11.5"
  },
  "orig_nbformat": 4
 },
 "nbformat": 4,
 "nbformat_minor": 2
}
